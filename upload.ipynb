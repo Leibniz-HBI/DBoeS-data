{
 "cells": [
  {
   "attachments": {},
   "cell_type": "markdown",
   "metadata": {},
   "source": [
    "# Upload/update DBOES data\n",
    "\n",
    "## Preparation\n",
    "\n",
    "Create a folder named `data_new` in the same directory as this notebook. Then place the new excel file in that folder."
   ]
  },
  {
   "cell_type": "code",
   "execution_count": null,
   "metadata": {},
   "outputs": [],
   "source": [
    "name_of_the_file = 'data_new/DBOES_2023_04.xlsx' # 'data_new/change_me.xslx'"
   ]
  },
  {
   "attachments": {},
   "cell_type": "markdown",
   "metadata": {},
   "source": [
    "## Import new data"
   ]
  },
  {
   "cell_type": "code",
   "execution_count": null,
   "metadata": {},
   "outputs": [],
   "source": [
    "import pandas as pd"
   ]
  },
  {
   "cell_type": "code",
   "execution_count": null,
   "metadata": {},
   "outputs": [],
   "source": [
    "# Read in all sheets of the Excel file and save in a dictionary of dataframes.\n",
    "# The keys of the dictionary are the sheet names.\n",
    "# The values are the dataframes.\n",
    "\n",
    "new_data = pd.read_excel(name_of_the_file, sheet_name=None)"
   ]
  },
  {
   "attachments": {},
   "cell_type": "markdown",
   "metadata": {},
   "source": [
    "## Inspect new data"
   ]
  },
  {
   "cell_type": "code",
   "execution_count": null,
   "metadata": {},
   "outputs": [],
   "source": [
    "# display all sheets as dataframes\n",
    "\n",
    "for sheet_name, df in new_data.items():\n",
    "    print(f'Sheet: {sheet_name}')\n",
    "    display(df)"
   ]
  },
  {
   "attachments": {},
   "cell_type": "markdown",
   "metadata": {},
   "source": [
    "## Export\n",
    "\n",
    "We export all dataframes as a csv file into the folder 'data_new' for further inspection."
   ]
  },
  {
   "cell_type": "code",
   "execution_count": null,
   "metadata": {},
   "outputs": [],
   "source": [
    "# create a new csv file for each sheet in the folder 'data_new'\n",
    "\n",
    "for sheet_name, df in new_data.items():\n",
    "    df.to_csv(f'data_new/{sheet_name}.csv', index=False)"
   ]
  },
  {
   "attachments": {},
   "cell_type": "markdown",
   "metadata": {},
   "source": [
    "Please double-check the CSVs now."
   ]
  },
  {
   "attachments": {},
   "cell_type": "markdown",
   "metadata": {},
   "source": [
    "## Overwrite old data"
   ]
  },
  {
   "cell_type": "code",
   "execution_count": null,
   "metadata": {},
   "outputs": [],
   "source": [
    "# create a new git branch\n",
    "!git checkout -b new_data # change the name of the branch if it already exists"
   ]
  },
  {
   "cell_type": "code",
   "execution_count": null,
   "metadata": {},
   "outputs": [],
   "source": [
    "!cp data_new/* data/"
   ]
  },
  {
   "attachments": {},
   "cell_type": "markdown",
   "metadata": {},
   "source": [
    "## Create Pull Request\n",
    "\n",
    "For this to work, you need the Github CLI installed and configured to have access to the repository. Otherwise create a PR manually."
   ]
  },
  {
   "cell_type": "code",
   "execution_count": null,
   "metadata": {},
   "outputs": [],
   "source": [
    "# add the new csv files to the git repository\n",
    "!git add data/*\n",
    "# commit the new csv files to the git repository\n",
    "!git commit -m \"add new data\""
   ]
  },
  {
   "attachments": {},
   "cell_type": "markdown",
   "metadata": {},
   "source": [
    "*Please inspect the changes one last time before pushing and creating a pull request.*"
   ]
  },
  {
   "cell_type": "code",
   "execution_count": null,
   "metadata": {},
   "outputs": [],
   "source": [
    "# push the new csv files to the remote repository\n",
    "!git push"
   ]
  },
  {
   "cell_type": "code",
   "execution_count": null,
   "metadata": {},
   "outputs": [],
   "source": [
    "# create a pull request on github\n",
    "!gh pr create --title \"new data\" --body \"new data\""
   ]
  },
  {
   "attachments": {},
   "cell_type": "markdown",
   "metadata": {},
   "source": [
    "## Now assign someone to review the changes and merge the PR 👏"
   ]
  }
 ],
 "metadata": {
  "kernelspec": {
   "display_name": "DBoeS-data-ZzdALeVy",
   "language": "python",
   "name": "python3"
  },
  "language_info": {
   "codemirror_mode": {
    "name": "ipython",
    "version": 3
   },
   "file_extension": ".py",
   "mimetype": "text/x-python",
   "name": "python",
   "nbconvert_exporter": "python",
   "pygments_lexer": "ipython3",
   "version": "3.11.4"
  },
  "orig_nbformat": 4
 },
 "nbformat": 4,
 "nbformat_minor": 2
}
